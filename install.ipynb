{
 "cells": [
  {
   "cell_type": "markdown",
   "metadata": {},
   "source": [
    "# Script to copy files to Anaconda paths so can import and use scripts"
   ]
  },
  {
   "cell_type": "code",
   "execution_count": 1,
   "metadata": {
    "collapsed": false
   },
   "outputs": [],
   "source": [
    "module_name = 'bradlib'"
   ]
  },
  {
   "cell_type": "markdown",
   "metadata": {},
   "source": [
    "#### find main path for install"
   ]
  },
  {
   "cell_type": "code",
   "execution_count": 2,
   "metadata": {
    "collapsed": false
   },
   "outputs": [],
   "source": [
    "from distutils.sysconfig import get_python_lib #; print(get_python_lib())"
   ]
  },
  {
   "cell_type": "code",
   "execution_count": 3,
   "metadata": {
    "collapsed": false
   },
   "outputs": [],
   "source": [
    "path_main = get_python_lib()"
   ]
  },
  {
   "cell_type": "code",
   "execution_count": 4,
   "metadata": {
    "collapsed": false
   },
   "outputs": [
    {
     "data": {
      "text/plain": [
       "'C:\\\\Anaconda3\\\\Lib\\\\site-packages'"
      ]
     },
     "execution_count": 4,
     "metadata": {},
     "output_type": "execute_result"
    }
   ],
   "source": [
    "path_main"
   ]
  },
  {
   "cell_type": "code",
   "execution_count": 5,
   "metadata": {
    "collapsed": false
   },
   "outputs": [
    {
     "data": {
      "text/plain": [
       "['C:\\\\', '\\\\Lib\\\\site-packages']"
      ]
     },
     "execution_count": 5,
     "metadata": {},
     "output_type": "execute_result"
    }
   ],
   "source": [
    "path_main.split('Anaconda3')"
   ]
  },
  {
   "cell_type": "markdown",
   "metadata": {},
   "source": [
    "#### make list of paths need to copy files to & add main path"
   ]
  },
  {
   "cell_type": "code",
   "execution_count": null,
   "metadata": {
    "collapsed": true
   },
   "outputs": [],
   "source": []
  },
  {
   "cell_type": "code",
   "execution_count": 6,
   "metadata": {
    "collapsed": true
   },
   "outputs": [],
   "source": [
    "dest_paths_list = []"
   ]
  },
  {
   "cell_type": "code",
   "execution_count": 7,
   "metadata": {
    "collapsed": false
   },
   "outputs": [],
   "source": [
    "dest_paths_list.append(path_main + '\\\\' + module_name)"
   ]
  },
  {
   "cell_type": "code",
   "execution_count": 8,
   "metadata": {
    "collapsed": false
   },
   "outputs": [
    {
     "data": {
      "text/plain": [
       "['C:\\\\Anaconda3\\\\Lib\\\\site-packages\\\\bradlib']"
      ]
     },
     "execution_count": 8,
     "metadata": {},
     "output_type": "execute_result"
    }
   ],
   "source": [
    "dest_paths_list"
   ]
  },
  {
   "cell_type": "markdown",
   "metadata": {},
   "source": [
    "#### add paths to list for conda environments currently available"
   ]
  },
  {
   "cell_type": "markdown",
   "metadata": {},
   "source": [
    "MAKE SURE HAS 'module name' AT END OF PATH!!"
   ]
  },
  {
   "cell_type": "code",
   "execution_count": 9,
   "metadata": {
    "collapsed": false
   },
   "outputs": [],
   "source": [
    "x = !conda env list"
   ]
  },
  {
   "cell_type": "code",
   "execution_count": 10,
   "metadata": {
    "collapsed": false
   },
   "outputs": [],
   "source": [
    "#x[2:-2]"
   ]
  },
  {
   "cell_type": "code",
   "execution_count": 11,
   "metadata": {
    "collapsed": false
   },
   "outputs": [
    {
     "name": "stdout",
     "output_type": "stream",
     "text": [
      "Conda envrionments found which will install to:\n",
      "flow\n",
      "flowm\n",
      "ngcm\n",
      "stable\n",
      "stable2\n",
      "udac\n"
     ]
    }
   ],
   "source": [
    "print('------------------------------------------------')\n",
    "print('Conda envrionments found which will install to:')\n",
    "for i in x[2:-2]:\n",
    "    y = i.split(' ')\n",
    "    print(y[0])\n",
    "    new_path = path_main.split('Anaconda3')[0] +'Anaconda3\\\\envs\\\\'+y[0]+'\\\\Lib\\\\site-packages\\\\' + module_name\n",
    "    #print(new_path)\n",
    "    dest_paths_list.append(new_path)"
   ]
  },
  {
   "cell_type": "code",
   "execution_count": 12,
   "metadata": {
    "collapsed": false
   },
   "outputs": [
    {
     "data": {
      "text/plain": [
       "['C:\\\\Anaconda3\\\\Lib\\\\site-packages\\\\bradlib',\n",
       " 'C:\\\\Anaconda3\\\\envs\\\\flow\\\\Lib\\\\site-packages\\\\bradlib',\n",
       " 'C:\\\\Anaconda3\\\\envs\\\\flowm\\\\Lib\\\\site-packages\\\\bradlib',\n",
       " 'C:\\\\Anaconda3\\\\envs\\\\ngcm\\\\Lib\\\\site-packages\\\\bradlib',\n",
       " 'C:\\\\Anaconda3\\\\envs\\\\stable\\\\Lib\\\\site-packages\\\\bradlib',\n",
       " 'C:\\\\Anaconda3\\\\envs\\\\stable2\\\\Lib\\\\site-packages\\\\bradlib',\n",
       " 'C:\\\\Anaconda3\\\\envs\\\\udac\\\\Lib\\\\site-packages\\\\bradlib']"
      ]
     },
     "execution_count": 12,
     "metadata": {},
     "output_type": "execute_result"
    }
   ],
   "source": [
    "#dest_paths_list"
   ]
  },
  {
   "cell_type": "markdown",
   "metadata": {},
   "source": [
    "#### function to  copy files to list of paths "
   ]
  },
  {
   "cell_type": "code",
   "execution_count": 13,
   "metadata": {
    "collapsed": true
   },
   "outputs": [],
   "source": [
    "import os"
   ]
  },
  {
   "cell_type": "code",
   "execution_count": 14,
   "metadata": {
    "collapsed": false
   },
   "outputs": [],
   "source": [
    "def copy_to_paths(source,dest):\n",
    "    \"\"\"\n",
    "    Function takes source and destination folders and copies files.\n",
    "    #Source and dest needed in fomrat below: \n",
    "    #source = \".\\\\bradlib\"\n",
    "    #dest = \"C:\\\\Users\\\\bjk1y13\\\\dev\\\\garbage\\\\bradlib\"\n",
    "    \"\"\"\n",
    "    #### Remove __pycache__ folder as is not required\n",
    "    pycache_loc = source + \"\\\\__pycache__\"\n",
    "    if os.path.isdir(pycache_loc) == True:\n",
    "        print(\"__pycache__ found in source and being deleted...\")\n",
    "        !rmdir $pycache_loc /S /Q\n",
    "                \n",
    "    #### Copy files to new destination\n",
    "    \n",
    "    print('------------------------')\n",
    "    print('Destination: ', dest)\n",
    "    print('---------')\n",
    "    folder_exists = os.path.isdir(dest)\n",
    "    if folder_exists == True:\n",
    "        print('Folder exists')\n",
    "        ### delete older version folder\n",
    "        print('Deleting old folder...')\n",
    "        !rmdir $dest /S /Q\n",
    "        print('Copying new folder...')\n",
    "        !xcopy $source $dest /E /I\n",
    "        \n",
    "    elif folder_exists == False:\n",
    "        print('Folder does not exist')\n",
    "        print('Copying new folder...')\n",
    "        !xcopy $source $dest /E /I\n",
    "    else:\n",
    "        print('Something has gone wrong!!')\n",
    "    \n",
    "    print('COMPLETE')\n",
    "    print('------------------------')\n",
    "    return"
   ]
  },
  {
   "cell_type": "code",
   "execution_count": 15,
   "metadata": {
    "collapsed": true
   },
   "outputs": [],
   "source": [
    "source = \".\\\\\" + module_name"
   ]
  },
  {
   "cell_type": "code",
   "execution_count": null,
   "metadata": {
    "collapsed": true
   },
   "outputs": [],
   "source": []
  },
  {
   "cell_type": "markdown",
   "metadata": {},
   "source": [
    "#### Run code for each location"
   ]
  },
  {
   "cell_type": "code",
   "execution_count": 16,
   "metadata": {
    "collapsed": false
   },
   "outputs": [
    {
     "name": "stdout",
     "output_type": "stream",
     "text": [
      "C:\\Anaconda3\\Lib\\site-packages\\bradlib\n",
      "------------------------\n",
      "Destination:  C:\\Anaconda3\\Lib\\site-packages\\bradlib\n",
      "---------\n",
      "Folder exists\n",
      "Deleting old folder...\n",
      "Copying new folder...\n",
      ".\\bradlib\\__init__.py\n",
      ".\\bradlib\\dftools\\pd_tidy_column_heads.py\n",
      ".\\bradlib\\dftools\\__init__.py\n",
      ".\\bradlib\\dftools\\__pycache__\\pd_tidy_column_heads.cpython-35.pyc\n",
      ".\\bradlib\\dftools\\__pycache__\\__init__.cpython-35.pyc\n",
      ".\\bradlib\\misc_test\\hello.py\n",
      ".\\bradlib\\misc_test\\sqrt_value.py\n",
      ".\\bradlib\\misc_test\\square_value.py\n",
      ".\\bradlib\\misc_test\\__init__.py\n",
      ".\\bradlib\\misc_test\\__pycache__\\hello.cpython-34.pyc\n",
      ".\\bradlib\\misc_test\\__pycache__\\hello.cpython-35.pyc\n",
      ".\\bradlib\\misc_test\\__pycache__\\sqrt_value.cpython-35.pyc\n",
      ".\\bradlib\\misc_test\\__pycache__\\square_value.cpython-35.pyc\n",
      ".\\bradlib\\misc_test\\__pycache__\\__init__.cpython-34.pyc\n",
      ".\\bradlib\\misc_test\\__pycache__\\__init__.cpython-35.pyc\n",
      "15 File(s) copied\n",
      "COMPLETE\n",
      "------------------------\n",
      "C:\\Anaconda3\\envs\\flow\\Lib\\site-packages\\bradlib\n",
      "------------------------\n",
      "Destination:  C:\\Anaconda3\\envs\\flow\\Lib\\site-packages\\bradlib\n",
      "---------\n",
      "Folder exists\n",
      "Deleting old folder...\n",
      "Copying new folder...\n",
      ".\\bradlib\\__init__.py\n",
      ".\\bradlib\\dftools\\pd_tidy_column_heads.py\n",
      ".\\bradlib\\dftools\\__init__.py\n",
      ".\\bradlib\\dftools\\__pycache__\\pd_tidy_column_heads.cpython-35.pyc\n",
      ".\\bradlib\\dftools\\__pycache__\\__init__.cpython-35.pyc\n",
      ".\\bradlib\\misc_test\\hello.py\n",
      ".\\bradlib\\misc_test\\sqrt_value.py\n",
      ".\\bradlib\\misc_test\\square_value.py\n",
      ".\\bradlib\\misc_test\\__init__.py\n",
      ".\\bradlib\\misc_test\\__pycache__\\hello.cpython-34.pyc\n",
      ".\\bradlib\\misc_test\\__pycache__\\hello.cpython-35.pyc\n",
      ".\\bradlib\\misc_test\\__pycache__\\sqrt_value.cpython-35.pyc\n",
      ".\\bradlib\\misc_test\\__pycache__\\square_value.cpython-35.pyc\n",
      ".\\bradlib\\misc_test\\__pycache__\\__init__.cpython-34.pyc\n",
      ".\\bradlib\\misc_test\\__pycache__\\__init__.cpython-35.pyc\n",
      "15 File(s) copied\n",
      "COMPLETE\n",
      "------------------------\n",
      "C:\\Anaconda3\\envs\\flowm\\Lib\\site-packages\\bradlib\n",
      "------------------------\n",
      "Destination:  C:\\Anaconda3\\envs\\flowm\\Lib\\site-packages\\bradlib\n",
      "---------\n",
      "Folder exists\n",
      "Deleting old folder...\n",
      "Copying new folder...\n",
      ".\\bradlib\\__init__.py\n",
      ".\\bradlib\\dftools\\pd_tidy_column_heads.py\n",
      ".\\bradlib\\dftools\\__init__.py\n",
      ".\\bradlib\\dftools\\__pycache__\\pd_tidy_column_heads.cpython-35.pyc\n",
      ".\\bradlib\\dftools\\__pycache__\\__init__.cpython-35.pyc\n",
      ".\\bradlib\\misc_test\\hello.py\n",
      ".\\bradlib\\misc_test\\sqrt_value.py\n",
      ".\\bradlib\\misc_test\\square_value.py\n",
      ".\\bradlib\\misc_test\\__init__.py\n",
      ".\\bradlib\\misc_test\\__pycache__\\hello.cpython-34.pyc\n",
      ".\\bradlib\\misc_test\\__pycache__\\hello.cpython-35.pyc\n",
      ".\\bradlib\\misc_test\\__pycache__\\sqrt_value.cpython-35.pyc\n",
      ".\\bradlib\\misc_test\\__pycache__\\square_value.cpython-35.pyc\n",
      ".\\bradlib\\misc_test\\__pycache__\\__init__.cpython-34.pyc\n",
      ".\\bradlib\\misc_test\\__pycache__\\__init__.cpython-35.pyc\n",
      "15 File(s) copied\n",
      "COMPLETE\n",
      "------------------------\n",
      "C:\\Anaconda3\\envs\\ngcm\\Lib\\site-packages\\bradlib\n",
      "------------------------\n",
      "Destination:  C:\\Anaconda3\\envs\\ngcm\\Lib\\site-packages\\bradlib\n",
      "---------\n",
      "Folder exists\n",
      "Deleting old folder...\n",
      "Copying new folder...\n",
      ".\\bradlib\\__init__.py\n",
      ".\\bradlib\\dftools\\pd_tidy_column_heads.py\n",
      ".\\bradlib\\dftools\\__init__.py\n",
      ".\\bradlib\\dftools\\__pycache__\\pd_tidy_column_heads.cpython-35.pyc\n",
      ".\\bradlib\\dftools\\__pycache__\\__init__.cpython-35.pyc\n",
      ".\\bradlib\\misc_test\\hello.py\n",
      ".\\bradlib\\misc_test\\sqrt_value.py\n",
      ".\\bradlib\\misc_test\\square_value.py\n",
      ".\\bradlib\\misc_test\\__init__.py\n",
      ".\\bradlib\\misc_test\\__pycache__\\hello.cpython-34.pyc\n",
      ".\\bradlib\\misc_test\\__pycache__\\hello.cpython-35.pyc\n",
      ".\\bradlib\\misc_test\\__pycache__\\sqrt_value.cpython-35.pyc\n",
      ".\\bradlib\\misc_test\\__pycache__\\square_value.cpython-35.pyc\n",
      ".\\bradlib\\misc_test\\__pycache__\\__init__.cpython-34.pyc\n",
      ".\\bradlib\\misc_test\\__pycache__\\__init__.cpython-35.pyc\n",
      "15 File(s) copied\n",
      "COMPLETE\n",
      "------------------------\n",
      "C:\\Anaconda3\\envs\\stable\\Lib\\site-packages\\bradlib\n",
      "------------------------\n",
      "Destination:  C:\\Anaconda3\\envs\\stable\\Lib\\site-packages\\bradlib\n",
      "---------\n",
      "Folder exists\n",
      "Deleting old folder...\n",
      "Copying new folder...\n",
      ".\\bradlib\\__init__.py\n",
      ".\\bradlib\\dftools\\pd_tidy_column_heads.py\n",
      ".\\bradlib\\dftools\\__init__.py\n",
      ".\\bradlib\\dftools\\__pycache__\\pd_tidy_column_heads.cpython-35.pyc\n",
      ".\\bradlib\\dftools\\__pycache__\\__init__.cpython-35.pyc\n",
      ".\\bradlib\\misc_test\\hello.py\n",
      ".\\bradlib\\misc_test\\sqrt_value.py\n",
      ".\\bradlib\\misc_test\\square_value.py\n",
      ".\\bradlib\\misc_test\\__init__.py\n",
      ".\\bradlib\\misc_test\\__pycache__\\hello.cpython-34.pyc\n",
      ".\\bradlib\\misc_test\\__pycache__\\hello.cpython-35.pyc\n",
      ".\\bradlib\\misc_test\\__pycache__\\sqrt_value.cpython-35.pyc\n",
      ".\\bradlib\\misc_test\\__pycache__\\square_value.cpython-35.pyc\n",
      ".\\bradlib\\misc_test\\__pycache__\\__init__.cpython-34.pyc\n",
      ".\\bradlib\\misc_test\\__pycache__\\__init__.cpython-35.pyc\n",
      "15 File(s) copied\n",
      "COMPLETE\n",
      "------------------------\n",
      "C:\\Anaconda3\\envs\\stable2\\Lib\\site-packages\\bradlib\n",
      "------------------------\n",
      "Destination:  C:\\Anaconda3\\envs\\stable2\\Lib\\site-packages\\bradlib\n",
      "---------\n",
      "Folder exists\n",
      "Deleting old folder...\n",
      "Copying new folder...\n",
      ".\\bradlib\\__init__.py\n",
      ".\\bradlib\\dftools\\pd_tidy_column_heads.py\n",
      ".\\bradlib\\dftools\\__init__.py\n",
      ".\\bradlib\\dftools\\__pycache__\\pd_tidy_column_heads.cpython-35.pyc\n",
      ".\\bradlib\\dftools\\__pycache__\\__init__.cpython-35.pyc\n",
      ".\\bradlib\\misc_test\\hello.py\n",
      ".\\bradlib\\misc_test\\sqrt_value.py\n",
      ".\\bradlib\\misc_test\\square_value.py\n",
      ".\\bradlib\\misc_test\\__init__.py\n",
      ".\\bradlib\\misc_test\\__pycache__\\hello.cpython-34.pyc\n",
      ".\\bradlib\\misc_test\\__pycache__\\hello.cpython-35.pyc\n",
      ".\\bradlib\\misc_test\\__pycache__\\sqrt_value.cpython-35.pyc\n",
      ".\\bradlib\\misc_test\\__pycache__\\square_value.cpython-35.pyc\n",
      ".\\bradlib\\misc_test\\__pycache__\\__init__.cpython-34.pyc\n",
      ".\\bradlib\\misc_test\\__pycache__\\__init__.cpython-35.pyc\n",
      "15 File(s) copied\n",
      "COMPLETE\n",
      "------------------------\n",
      "C:\\Anaconda3\\envs\\udac\\Lib\\site-packages\\bradlib\n",
      "------------------------\n",
      "Destination:  C:\\Anaconda3\\envs\\udac\\Lib\\site-packages\\bradlib\n",
      "---------\n",
      "Folder exists\n",
      "Deleting old folder...\n",
      "Copying new folder...\n",
      ".\\bradlib\\__init__.py\n",
      ".\\bradlib\\dftools\\pd_tidy_column_heads.py\n",
      ".\\bradlib\\dftools\\__init__.py\n",
      ".\\bradlib\\dftools\\__pycache__\\pd_tidy_column_heads.cpython-35.pyc\n",
      ".\\bradlib\\dftools\\__pycache__\\__init__.cpython-35.pyc\n",
      ".\\bradlib\\misc_test\\hello.py\n",
      ".\\bradlib\\misc_test\\sqrt_value.py\n",
      ".\\bradlib\\misc_test\\square_value.py\n",
      ".\\bradlib\\misc_test\\__init__.py\n",
      ".\\bradlib\\misc_test\\__pycache__\\hello.cpython-34.pyc\n",
      ".\\bradlib\\misc_test\\__pycache__\\hello.cpython-35.pyc\n",
      ".\\bradlib\\misc_test\\__pycache__\\sqrt_value.cpython-35.pyc\n",
      ".\\bradlib\\misc_test\\__pycache__\\square_value.cpython-35.pyc\n",
      ".\\bradlib\\misc_test\\__pycache__\\__init__.cpython-34.pyc\n",
      ".\\bradlib\\misc_test\\__pycache__\\__init__.cpython-35.pyc\n",
      "15 File(s) copied\n",
      "COMPLETE\n",
      "------------------------\n"
     ]
    }
   ],
   "source": [
    "for destination in dest_paths_list:\n",
    "    print(destination)\n",
    "    copy_to_paths(source, destination)"
   ]
  },
  {
   "cell_type": "code",
   "execution_count": null,
   "metadata": {
    "collapsed": true
   },
   "outputs": [],
   "source": []
  }
 ],
 "metadata": {
  "kernelspec": {
   "display_name": "Python [default]",
   "language": "python",
   "name": "python3"
  },
  "language_info": {
   "codemirror_mode": {
    "name": "ipython",
    "version": 3
   },
   "file_extension": ".py",
   "mimetype": "text/x-python",
   "name": "python",
   "nbconvert_exporter": "python",
   "pygments_lexer": "ipython3",
   "version": "3.5.3"
  }
 },
 "nbformat": 4,
 "nbformat_minor": 2
}
